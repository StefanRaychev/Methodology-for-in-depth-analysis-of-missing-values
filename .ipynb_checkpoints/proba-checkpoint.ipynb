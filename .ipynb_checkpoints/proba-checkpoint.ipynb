{
 "cells": [
  {
   "cell_type": "code",
   "execution_count": 49,
   "id": "f34426ee-45a4-47d6-b027-6283e60fac35",
   "metadata": {},
   "outputs": [],
   "source": [
    "import tensorflow as tf\n",
    "from tensorflow import keras\n",
    "from tensorflow.keras import layers\n",
    "import tensorflow_addons as tfa\n",
    "import keras_tuner as kt\n",
    "\n",
    "import numpy as np\n",
    "import pandas as pd\n",
    "import matplotlib.pyplot as plt\n",
    "\n",
    "from sklearn.model_selection import train_test_split\n",
    "from sklearn.linear_model import LinearRegression\n",
    "from sklearn.metrics import explained_variance_score,mean_absolute_error,r2_score, mean_squared_error\n",
    "from sklearn.impute import KNNImputer\n",
    "from sklearn.experimental import enable_iterative_imputer\n",
    "from sklearn.impute import IterativeImputer\n",
    "from sklearn.model_selection import train_test_split\n",
    "from sklearn.model_selection import GridSearchCV\n",
    "from sklearn.preprocessing import StandardScaler\n",
    "from sklearn.preprocessing import MinMaxScaler\n",
    "\n",
    "import eurostat\n",
    "import warnings\n",
    "import pandas as pd\n",
    "import numpy as np\n",
    "import seaborn as sns\n",
    "import scipy.stats as stats\n",
    "import statsmodels as sm\n",
    "import statsmodels.api\n",
    "import statsmodels\n",
    "import plotly.express as px\n",
    "from pandas import DataFrame\n",
    "import plotly.graph_objs as go\n",
    "\n",
    "from functools import reduce\n",
    "import pytz\n",
    "from tabulate import tabulate\n",
    "import missingno as msno\n",
    "\n",
    "warnings.filterwarnings('ignore')"
   ]
  },
  {
   "cell_type": "code",
   "execution_count": 2,
   "id": "125fe625-b48b-42e8-b506-2979e5aa675b",
   "metadata": {},
   "outputs": [],
   "source": [
    "%store -r df_no_missing"
   ]
  },
  {
   "cell_type": "code",
   "execution_count": 3,
   "id": "f74657f7-5489-4e5c-932b-eb4932270579",
   "metadata": {},
   "outputs": [
    {
     "data": {
      "text/html": [
       "<div>\n",
       "<style scoped>\n",
       "    .dataframe tbody tr th:only-of-type {\n",
       "        vertical-align: middle;\n",
       "    }\n",
       "\n",
       "    .dataframe tbody tr th {\n",
       "        vertical-align: top;\n",
       "    }\n",
       "\n",
       "    .dataframe thead th {\n",
       "        text-align: right;\n",
       "    }\n",
       "</style>\n",
       "<table border=\"1\" class=\"dataframe\">\n",
       "  <thead>\n",
       "    <tr style=\"text-align: right;\">\n",
       "      <th></th>\n",
       "      <th>country</th>\n",
       "      <th>Date</th>\n",
       "      <th>employment</th>\n",
       "      <th>unemployment</th>\n",
       "      <th>labor_activity</th>\n",
       "      <th>poverty</th>\n",
       "      <th>early_leavers</th>\n",
       "      <th>neets</th>\n",
       "      <th>LLL</th>\n",
       "      <th>gini</th>\n",
       "      <th>R&amp;D</th>\n",
       "    </tr>\n",
       "  </thead>\n",
       "  <tbody>\n",
       "    <tr>\n",
       "      <th>1146</th>\n",
       "      <td>FR</td>\n",
       "      <td>2004</td>\n",
       "      <td>63.4</td>\n",
       "      <td>8.9</td>\n",
       "      <td>69.7</td>\n",
       "      <td>19.8</td>\n",
       "      <td>12.3</td>\n",
       "      <td>14.5</td>\n",
       "      <td>6.0</td>\n",
       "      <td>28.2</td>\n",
       "      <td>2.09</td>\n",
       "    </tr>\n",
       "    <tr>\n",
       "      <th>1151</th>\n",
       "      <td>IT</td>\n",
       "      <td>2004</td>\n",
       "      <td>57.8</td>\n",
       "      <td>8.0</td>\n",
       "      <td>62.8</td>\n",
       "      <td>25.3</td>\n",
       "      <td>23.1</td>\n",
       "      <td>20.6</td>\n",
       "      <td>6.3</td>\n",
       "      <td>32.9</td>\n",
       "      <td>1.05</td>\n",
       "    </tr>\n",
       "    <tr>\n",
       "      <th>1154</th>\n",
       "      <td>LU</td>\n",
       "      <td>2004</td>\n",
       "      <td>62.5</td>\n",
       "      <td>5.1</td>\n",
       "      <td>65.8</td>\n",
       "      <td>14.5</td>\n",
       "      <td>12.7</td>\n",
       "      <td>10.3</td>\n",
       "      <td>9.8</td>\n",
       "      <td>26.5</td>\n",
       "      <td>1.59</td>\n",
       "    </tr>\n",
       "    <tr>\n",
       "      <th>1155</th>\n",
       "      <td>FI</td>\n",
       "      <td>2004</td>\n",
       "      <td>68.3</td>\n",
       "      <td>10.4</td>\n",
       "      <td>76.2</td>\n",
       "      <td>17.1</td>\n",
       "      <td>10.0</td>\n",
       "      <td>11.4</td>\n",
       "      <td>22.8</td>\n",
       "      <td>25.5</td>\n",
       "      <td>3.31</td>\n",
       "    </tr>\n",
       "    <tr>\n",
       "      <th>1157</th>\n",
       "      <td>IE</td>\n",
       "      <td>2004</td>\n",
       "      <td>65.5</td>\n",
       "      <td>4.6</td>\n",
       "      <td>68.7</td>\n",
       "      <td>23.4</td>\n",
       "      <td>13.1</td>\n",
       "      <td>14.1</td>\n",
       "      <td>6.1</td>\n",
       "      <td>31.5</td>\n",
       "      <td>1.18</td>\n",
       "    </tr>\n",
       "    <tr>\n",
       "      <th>...</th>\n",
       "      <td>...</td>\n",
       "      <td>...</td>\n",
       "      <td>...</td>\n",
       "      <td>...</td>\n",
       "      <td>...</td>\n",
       "      <td>...</td>\n",
       "      <td>...</td>\n",
       "      <td>...</td>\n",
       "      <td>...</td>\n",
       "      <td>...</td>\n",
       "      <td>...</td>\n",
       "    </tr>\n",
       "    <tr>\n",
       "      <th>2032</th>\n",
       "      <td>BE</td>\n",
       "      <td>2020</td>\n",
       "      <td>64.7</td>\n",
       "      <td>5.6</td>\n",
       "      <td>68.6</td>\n",
       "      <td>18.5</td>\n",
       "      <td>8.1</td>\n",
       "      <td>13.4</td>\n",
       "      <td>7.4</td>\n",
       "      <td>25.4</td>\n",
       "      <td>3.38</td>\n",
       "    </tr>\n",
       "    <tr>\n",
       "      <th>2033</th>\n",
       "      <td>AT</td>\n",
       "      <td>2020</td>\n",
       "      <td>72.4</td>\n",
       "      <td>5.4</td>\n",
       "      <td>76.6</td>\n",
       "      <td>16.4</td>\n",
       "      <td>8.1</td>\n",
       "      <td>10.6</td>\n",
       "      <td>11.7</td>\n",
       "      <td>27.0</td>\n",
       "      <td>3.22</td>\n",
       "    </tr>\n",
       "    <tr>\n",
       "      <th>2034</th>\n",
       "      <td>BG</td>\n",
       "      <td>2020</td>\n",
       "      <td>68.5</td>\n",
       "      <td>5.2</td>\n",
       "      <td>72.2</td>\n",
       "      <td>31.8</td>\n",
       "      <td>12.8</td>\n",
       "      <td>19.2</td>\n",
       "      <td>1.6</td>\n",
       "      <td>40.0</td>\n",
       "      <td>0.85</td>\n",
       "    </tr>\n",
       "    <tr>\n",
       "      <th>2038</th>\n",
       "      <td>SI</td>\n",
       "      <td>2020</td>\n",
       "      <td>70.9</td>\n",
       "      <td>5.0</td>\n",
       "      <td>74.6</td>\n",
       "      <td>15.7</td>\n",
       "      <td>4.1</td>\n",
       "      <td>9.5</td>\n",
       "      <td>8.4</td>\n",
       "      <td>23.5</td>\n",
       "      <td>2.15</td>\n",
       "    </tr>\n",
       "    <tr>\n",
       "      <th>2045</th>\n",
       "      <td>TR</td>\n",
       "      <td>2020</td>\n",
       "      <td>47.5</td>\n",
       "      <td>13.4</td>\n",
       "      <td>54.9</td>\n",
       "      <td>38.6</td>\n",
       "      <td>26.7</td>\n",
       "      <td>33.6</td>\n",
       "      <td>5.8</td>\n",
       "      <td>43.4</td>\n",
       "      <td>1.09</td>\n",
       "    </tr>\n",
       "  </tbody>\n",
       "</table>\n",
       "<p>546 rows × 11 columns</p>\n",
       "</div>"
      ],
      "text/plain": [
       "     country  Date  employment  unemployment  labor_activity  poverty  \\\n",
       "1146      FR  2004        63.4           8.9            69.7     19.8   \n",
       "1151      IT  2004        57.8           8.0            62.8     25.3   \n",
       "1154      LU  2004        62.5           5.1            65.8     14.5   \n",
       "1155      FI  2004        68.3          10.4            76.2     17.1   \n",
       "1157      IE  2004        65.5           4.6            68.7     23.4   \n",
       "...      ...   ...         ...           ...             ...      ...   \n",
       "2032      BE  2020        64.7           5.6            68.6     18.5   \n",
       "2033      AT  2020        72.4           5.4            76.6     16.4   \n",
       "2034      BG  2020        68.5           5.2            72.2     31.8   \n",
       "2038      SI  2020        70.9           5.0            74.6     15.7   \n",
       "2045      TR  2020        47.5          13.4            54.9     38.6   \n",
       "\n",
       "      early_leavers  neets   LLL  gini   R&D  \n",
       "1146           12.3   14.5   6.0  28.2  2.09  \n",
       "1151           23.1   20.6   6.3  32.9  1.05  \n",
       "1154           12.7   10.3   9.8  26.5  1.59  \n",
       "1155           10.0   11.4  22.8  25.5  3.31  \n",
       "1157           13.1   14.1   6.1  31.5  1.18  \n",
       "...             ...    ...   ...   ...   ...  \n",
       "2032            8.1   13.4   7.4  25.4  3.38  \n",
       "2033            8.1   10.6  11.7  27.0  3.22  \n",
       "2034           12.8   19.2   1.6  40.0  0.85  \n",
       "2038            4.1    9.5   8.4  23.5  2.15  \n",
       "2045           26.7   33.6   5.8  43.4  1.09  \n",
       "\n",
       "[546 rows x 11 columns]"
      ]
     },
     "execution_count": 3,
     "metadata": {},
     "output_type": "execute_result"
    }
   ],
   "source": [
    "df_no_missing"
   ]
  },
  {
   "cell_type": "code",
   "execution_count": 4,
   "id": "c1dd7f8d-17e8-4af2-8859-e7b6e9ae8382",
   "metadata": {},
   "outputs": [
    {
     "data": {
      "image/png": "[encoded data removed]",
      "text/plain": [
       "<Figure size 432x288 with 1 Axes>"
      ]
     },
     "metadata": {
      "needs_background": "light"
     },
     "output_type": "display_data"
    }
   ],
   "source": [
    "plt.scatter(df_no_missing[\"neets\"], df_no_missing[\"LLL\"], color=\"green\",edgecolor=\"black\" )\n",
    "plt.title(\"neets and LLL\")\n",
    "plt.xlabel(\"rate of neets\")\n",
    "plt.ylabel(\"LLL\")\n",
    "plt.show()"
   ]
  },
  {
   "cell_type": "code",
   "execution_count": 6,
   "id": "78363fd1-983e-4ae1-a36f-a02618164148",
   "metadata": {},
   "outputs": [],
   "source": [
    "train_df = df_no_missing.sample(frac=0.8, random_state=0)\n",
    "test_df = df_no_missing.drop(train_df.index)"
   ]
  },
  {
   "cell_type": "code",
   "execution_count": 7,
   "id": "1849fd99-1826-464c-bf45-e4ec19345e1b",
   "metadata": {},
   "outputs": [],
   "source": [
    "x_train = train_df['LLL']\n",
    "x_test = test_df['LLL']\n",
    "\n",
    "y_train = train_df['neets']\n",
    "y_test = test_df['neets']"
   ]
  },
  {
   "cell_type": "code",
   "execution_count": 8,
   "id": "a1594e16-cf73-4604-92af-4a23d97a5b1d",
   "metadata": {},
   "outputs": [
    {
     "data": {
      "text/plain": [
       "<seaborn.axisgrid.PairGrid at 0x29cb4d965e0>"
      ]
     },
     "execution_count": 8,
     "metadata": {},
     "output_type": "execute_result"
    },
    {
     "data": {
      "image/png": "[encoded data removed]",
      "text/plain": [
       "<Figure size 360x360 with 6 Axes>"
      ]
     },
     "metadata": {
      "needs_background": "light"
     },
     "output_type": "display_data"
    }
   ],
   "source": [
    "sns.pairplot(train_df[['neets', 'LLL']], diag_kind='kde')"
   ]
  },
  {
   "cell_type": "code",
   "execution_count": 9,
   "id": "3549da27-6159-4891-8692-57f8eaf54d71",
   "metadata": {},
   "outputs": [
    {
     "data": {
      "text/html": [
       "<div>\n",
       "<style scoped>\n",
       "    .dataframe tbody tr th:only-of-type {\n",
       "        vertical-align: middle;\n",
       "    }\n",
       "\n",
       "    .dataframe tbody tr th {\n",
       "        vertical-align: top;\n",
       "    }\n",
       "\n",
       "    .dataframe thead th {\n",
       "        text-align: right;\n",
       "    }\n",
       "</style>\n",
       "<table border=\"1\" class=\"dataframe\">\n",
       "  <thead>\n",
       "    <tr style=\"text-align: right;\">\n",
       "      <th></th>\n",
       "      <th>count</th>\n",
       "      <th>mean</th>\n",
       "      <th>std</th>\n",
       "      <th>min</th>\n",
       "      <th>25%</th>\n",
       "      <th>50%</th>\n",
       "      <th>75%</th>\n",
       "      <th>max</th>\n",
       "    </tr>\n",
       "  </thead>\n",
       "  <tbody>\n",
       "    <tr>\n",
       "      <th>Date</th>\n",
       "      <td>437.0</td>\n",
       "      <td>2012.588101</td>\n",
       "      <td>4.702102</td>\n",
       "      <td>2004.00</td>\n",
       "      <td>2009.00</td>\n",
       "      <td>2013.0</td>\n",
       "      <td>2017.00</td>\n",
       "      <td>2020.00</td>\n",
       "    </tr>\n",
       "    <tr>\n",
       "      <th>employment</th>\n",
       "      <td>437.0</td>\n",
       "      <td>65.657895</td>\n",
       "      <td>7.326029</td>\n",
       "      <td>44.30</td>\n",
       "      <td>61.10</td>\n",
       "      <td>65.6</td>\n",
       "      <td>71.10</td>\n",
       "      <td>86.60</td>\n",
       "    </tr>\n",
       "    <tr>\n",
       "      <th>unemployment</th>\n",
       "      <td>437.0</td>\n",
       "      <td>8.651259</td>\n",
       "      <td>4.387715</td>\n",
       "      <td>2.10</td>\n",
       "      <td>5.70</td>\n",
       "      <td>7.7</td>\n",
       "      <td>10.20</td>\n",
       "      <td>27.70</td>\n",
       "    </tr>\n",
       "    <tr>\n",
       "      <th>labor_activity</th>\n",
       "      <td>437.0</td>\n",
       "      <td>71.774600</td>\n",
       "      <td>6.116249</td>\n",
       "      <td>49.10</td>\n",
       "      <td>68.00</td>\n",
       "      <td>72.2</td>\n",
       "      <td>75.70</td>\n",
       "      <td>89.30</td>\n",
       "    </tr>\n",
       "    <tr>\n",
       "      <th>poverty</th>\n",
       "      <td>437.0</td>\n",
       "      <td>23.559725</td>\n",
       "      <td>8.706685</td>\n",
       "      <td>10.40</td>\n",
       "      <td>17.40</td>\n",
       "      <td>21.3</td>\n",
       "      <td>27.30</td>\n",
       "      <td>60.60</td>\n",
       "    </tr>\n",
       "    <tr>\n",
       "      <th>early_leavers</th>\n",
       "      <td>437.0</td>\n",
       "      <td>12.056522</td>\n",
       "      <td>7.219357</td>\n",
       "      <td>2.20</td>\n",
       "      <td>7.30</td>\n",
       "      <td>10.6</td>\n",
       "      <td>14.00</td>\n",
       "      <td>46.90</td>\n",
       "    </tr>\n",
       "    <tr>\n",
       "      <th>neets</th>\n",
       "      <td>437.0</td>\n",
       "      <td>15.119680</td>\n",
       "      <td>6.114525</td>\n",
       "      <td>4.50</td>\n",
       "      <td>10.40</td>\n",
       "      <td>14.6</td>\n",
       "      <td>18.00</td>\n",
       "      <td>41.10</td>\n",
       "    </tr>\n",
       "    <tr>\n",
       "      <th>LLL</th>\n",
       "      <td>437.0</td>\n",
       "      <td>10.824714</td>\n",
       "      <td>7.737665</td>\n",
       "      <td>0.90</td>\n",
       "      <td>5.30</td>\n",
       "      <td>8.1</td>\n",
       "      <td>14.90</td>\n",
       "      <td>32.30</td>\n",
       "    </tr>\n",
       "    <tr>\n",
       "      <th>gini</th>\n",
       "      <td>437.0</td>\n",
       "      <td>30.202288</td>\n",
       "      <td>4.455771</td>\n",
       "      <td>20.90</td>\n",
       "      <td>26.80</td>\n",
       "      <td>30.0</td>\n",
       "      <td>33.10</td>\n",
       "      <td>44.20</td>\n",
       "    </tr>\n",
       "    <tr>\n",
       "      <th>R&amp;D</th>\n",
       "      <td>437.0</td>\n",
       "      <td>1.570297</td>\n",
       "      <td>0.848019</td>\n",
       "      <td>0.35</td>\n",
       "      <td>0.84</td>\n",
       "      <td>1.4</td>\n",
       "      <td>2.17</td>\n",
       "      <td>3.62</td>\n",
       "    </tr>\n",
       "  </tbody>\n",
       "</table>\n",
       "</div>"
      ],
      "text/plain": [
       "                count         mean       std      min      25%     50%  \\\n",
       "Date            437.0  2012.588101  4.702102  2004.00  2009.00  2013.0   \n",
       "employment      437.0    65.657895  7.326029    44.30    61.10    65.6   \n",
       "unemployment    437.0     8.651259  4.387715     2.10     5.70     7.7   \n",
       "labor_activity  437.0    71.774600  6.116249    49.10    68.00    72.2   \n",
       "poverty         437.0    23.559725  8.706685    10.40    17.40    21.3   \n",
       "early_leavers   437.0    12.056522  7.219357     2.20     7.30    10.6   \n",
       "neets           437.0    15.119680  6.114525     4.50    10.40    14.6   \n",
       "LLL             437.0    10.824714  7.737665     0.90     5.30     8.1   \n",
       "gini            437.0    30.202288  4.455771    20.90    26.80    30.0   \n",
       "R&D             437.0     1.570297  0.848019     0.35     0.84     1.4   \n",
       "\n",
       "                    75%      max  \n",
       "Date            2017.00  2020.00  \n",
       "employment        71.10    86.60  \n",
       "unemployment      10.20    27.70  \n",
       "labor_activity    75.70    89.30  \n",
       "poverty           27.30    60.60  \n",
       "early_leavers     14.00    46.90  \n",
       "neets             18.00    41.10  \n",
       "LLL               14.90    32.30  \n",
       "gini              33.10    44.20  \n",
       "R&D                2.17     3.62  "
      ]
     },
     "execution_count": 9,
     "metadata": {},
     "output_type": "execute_result"
    }
   ],
   "source": [
    "train_df.describe().transpose()"
   ]
  },
  {
   "cell_type": "code",
   "execution_count": 11,
   "id": "351e52ac-72da-411d-9c5e-e90f70635525",
   "metadata": {},
   "outputs": [],
   "source": [
    "def plot_loss(history):\n",
    "    plt.plot(history.history['loss'], label='loss')\n",
    "    plt.plot(history.history['val_loss'], label='val_loss')\n",
    "    plt.plot(history.history['r_square'], label='r_square')\n",
    "    plt.plot(history.history['val_r_square'], label='val_r_square')\n",
    "    \n",
    "    plt.ylim([0, 10])\n",
    "    plt.xlabel('Epoch')\n",
    "    plt.ylabel('Error [MPG]')\n",
    "    plt.legend()\n",
    "    plt.grid(True)"
   ]
  },
  {
   "cell_type": "code",
   "execution_count": 12,
   "id": "b00adfe2-ebed-43af-a62b-710800943935",
   "metadata": {},
   "outputs": [],
   "source": [
    "def plot_horsepower(x, y):\n",
    "    plt.scatter(x_test, y_test, label='Data')\n",
    "    plt.plot(x, y, color='k', label='Predictions')\n",
    "    plt.xlabel('LLL')\n",
    "    plt.ylabel('neets')\n",
    "    plt.legend()"
   ]
  },
  {
   "cell_type": "code",
   "execution_count": 13,
   "id": "034a20d0-4c7a-4490-a909-1ba860669cc4",
   "metadata": {},
   "outputs": [],
   "source": [
    "model1 = keras.Sequential([\n",
    "    layers.Dense(1, input_shape=[1]),\n",
    "    layers.Dense(units=1),\n",
    "])\n",
    "\n",
    "model1.compile(\n",
    "    optimizer=tf.keras.optimizers.Adam(learning_rate=0.1),\n",
    "    loss='mean_absolute_error',\n",
    "    metrics = [tfa.metrics.r_square.RSquare() ,'mse', 'mae', 'mape']\n",
    ")"
   ]
  },
  {
   "cell_type": "code",
   "execution_count": 14,
   "id": "8521a069-4826-4363-a91b-5d86c9d4d5a2",
   "metadata": {},
   "outputs": [
    {
     "name": "stdout",
     "output_type": "stream",
     "text": [
      "Model: \"sequential\"\n",
      "_________________________________________________________________\n",
      " Layer (type)                Output Shape              Param #   \n",
      "=================================================================\n",
      " dense (Dense)               (None, 1)                 2         \n",
      "                                                                 \n",
      " dense_1 (Dense)             (None, 1)                 2         \n",
      "                                                                 \n",
      "=================================================================\n",
      "Total params: 4\n",
      "Trainable params: 4\n",
      "Non-trainable params: 0\n",
      "_________________________________________________________________\n"
     ]
    }
   ],
   "source": [
    "model1.summary()"
   ]
  },
  {
   "cell_type": "code",
   "execution_count": 15,
   "id": "f195b0e3-e95e-4d4d-92e7-bda400e01c35",
   "metadata": {},
   "outputs": [
    {
     "name": "stdout",
     "output_type": "stream",
     "text": [
      "Wall time: 8.74 s\n"
     ]
    }
   ],
   "source": [
    "%%time\n",
    "history1 = model1.fit(\n",
    "    x_train, y_train,\n",
    "    validation_split = 0.2,\n",
    "    batch_size=70,\n",
    "    epochs=100,\n",
    "    verbose=0,\n",
    ")"
   ]
  },
  {
   "cell_type": "code",
   "execution_count": 16,
   "id": "d14d86f6-84c5-466c-a739-b0a38b0087ab",
   "metadata": {},
   "outputs": [
    {
     "data": {
      "text/html": [
       "<div>\n",
       "<style scoped>\n",
       "    .dataframe tbody tr th:only-of-type {\n",
       "        vertical-align: middle;\n",
       "    }\n",
       "\n",
       "    .dataframe tbody tr th {\n",
       "        vertical-align: top;\n",
       "    }\n",
       "\n",
       "    .dataframe thead th {\n",
       "        text-align: right;\n",
       "    }\n",
       "</style>\n",
       "<table border=\"1\" class=\"dataframe\">\n",
       "  <thead>\n",
       "    <tr style=\"text-align: right;\">\n",
       "      <th></th>\n",
       "      <th>loss</th>\n",
       "      <th>r_square</th>\n",
       "      <th>mse</th>\n",
       "      <th>mae</th>\n",
       "      <th>mape</th>\n",
       "      <th>val_loss</th>\n",
       "      <th>val_r_square</th>\n",
       "      <th>val_mse</th>\n",
       "      <th>val_mae</th>\n",
       "      <th>val_mape</th>\n",
       "      <th>epoch</th>\n",
       "    </tr>\n",
       "  </thead>\n",
       "  <tbody>\n",
       "    <tr>\n",
       "      <th>95</th>\n",
       "      <td>3.268514</td>\n",
       "      <td>0.430768</td>\n",
       "      <td>20.775200</td>\n",
       "      <td>3.268514</td>\n",
       "      <td>22.506819</td>\n",
       "      <td>3.631797</td>\n",
       "      <td>0.350627</td>\n",
       "      <td>26.203505</td>\n",
       "      <td>3.631797</td>\n",
       "      <td>23.313942</td>\n",
       "      <td>95</td>\n",
       "    </tr>\n",
       "    <tr>\n",
       "      <th>96</th>\n",
       "      <td>3.258602</td>\n",
       "      <td>0.446941</td>\n",
       "      <td>20.184950</td>\n",
       "      <td>3.258602</td>\n",
       "      <td>23.268936</td>\n",
       "      <td>3.622389</td>\n",
       "      <td>0.352993</td>\n",
       "      <td>26.108004</td>\n",
       "      <td>3.622389</td>\n",
       "      <td>23.349943</td>\n",
       "      <td>96</td>\n",
       "    </tr>\n",
       "    <tr>\n",
       "      <th>97</th>\n",
       "      <td>3.254143</td>\n",
       "      <td>0.445735</td>\n",
       "      <td>20.228943</td>\n",
       "      <td>3.254143</td>\n",
       "      <td>23.001913</td>\n",
       "      <td>3.649590</td>\n",
       "      <td>0.344273</td>\n",
       "      <td>26.459894</td>\n",
       "      <td>3.649590</td>\n",
       "      <td>23.279078</td>\n",
       "      <td>97</td>\n",
       "    </tr>\n",
       "    <tr>\n",
       "      <th>98</th>\n",
       "      <td>3.264206</td>\n",
       "      <td>0.429482</td>\n",
       "      <td>20.822157</td>\n",
       "      <td>3.264206</td>\n",
       "      <td>22.401489</td>\n",
       "      <td>3.679532</td>\n",
       "      <td>0.327839</td>\n",
       "      <td>27.123022</td>\n",
       "      <td>3.679532</td>\n",
       "      <td>23.251970</td>\n",
       "      <td>98</td>\n",
       "    </tr>\n",
       "    <tr>\n",
       "      <th>99</th>\n",
       "      <td>3.291023</td>\n",
       "      <td>0.430928</td>\n",
       "      <td>20.769335</td>\n",
       "      <td>3.291023</td>\n",
       "      <td>23.471468</td>\n",
       "      <td>3.604028</td>\n",
       "      <td>0.343250</td>\n",
       "      <td>26.501179</td>\n",
       "      <td>3.604028</td>\n",
       "      <td>23.072990</td>\n",
       "      <td>99</td>\n",
       "    </tr>\n",
       "  </tbody>\n",
       "</table>\n",
       "</div>"
      ],
      "text/plain": [
       "        loss  r_square        mse       mae       mape  val_loss  \\\n",
       "95  3.268514  0.430768  20.775200  3.268514  22.506819  3.631797   \n",
       "96  3.258602  0.446941  20.184950  3.258602  23.268936  3.622389   \n",
       "97  3.254143  0.445735  20.228943  3.254143  23.001913  3.649590   \n",
       "98  3.264206  0.429482  20.822157  3.264206  22.401489  3.679532   \n",
       "99  3.291023  0.430928  20.769335  3.291023  23.471468  3.604028   \n",
       "\n",
       "    val_r_square    val_mse   val_mae   val_mape  epoch  \n",
       "95      0.350627  26.203505  3.631797  23.313942     95  \n",
       "96      0.352993  26.108004  3.622389  23.349943     96  \n",
       "97      0.344273  26.459894  3.649590  23.279078     97  \n",
       "98      0.327839  27.123022  3.679532  23.251970     98  \n",
       "99      0.343250  26.501179  3.604028  23.072990     99  "
      ]
     },
     "execution_count": 16,
     "metadata": {},
     "output_type": "execute_result"
    }
   ],
   "source": [
    "history_df1 = pd.DataFrame(history1.history)\n",
    "history_df1['epoch'] = history1.epoch\n",
    "history_df1.tail()"
   ]
  },
  {
   "cell_type": "code",
   "execution_count": 17,
   "id": "0a36d016-b876-46e0-a44d-fdac650e8ab8",
   "metadata": {},
   "outputs": [
    {
     "data": {
      "image/png": "[encoded data removed]",
      "text/plain": [
       "<Figure size 432x288 with 1 Axes>"
      ]
     },
     "metadata": {
      "needs_background": "light"
     },
     "output_type": "display_data"
    }
   ],
   "source": [
    "plot_loss(history1)"
   ]
  },
  {
   "cell_type": "code",
   "execution_count": 18,
   "id": "a15be2bb-5a69-4755-a6c5-2c0a5ec541ac",
   "metadata": {},
   "outputs": [
    {
     "name": "stdout",
     "output_type": "stream",
     "text": [
      "2/2 [==============================] - 0s 3ms/step\n"
     ]
    }
   ],
   "source": [
    "x1 = tf.linspace(0, 40, 40)\n",
    "y1 = model1.predict(x1)"
   ]
  },
  {
   "cell_type": "code",
   "execution_count": 19,
   "id": "60883600-36b0-4f6a-91a8-8e023feb6360",
   "metadata": {},
   "outputs": [
    {
     "data": {
      "image/png": "[encoded data removed]",
      "text/plain": [
       "<Figure size 432x288 with 1 Axes>"
      ]
     },
     "metadata": {
      "needs_background": "light"
     },
     "output_type": "display_data"
    }
   ],
   "source": [
    "plot_horsepower(x1, y1)"
   ]
  },
  {
   "cell_type": "code",
   "execution_count": 20,
   "id": "985a4088-4481-4bb1-84e8-7e21ef360cbd",
   "metadata": {},
   "outputs": [],
   "source": [
    "test_results = {}\n",
    "test_results['model1'] = model1.evaluate(\n",
    "x_test, y_test, verbose=0)"
   ]
  },
  {
   "cell_type": "markdown",
   "id": "cec7c3de-b2b7-4d85-b29b-283dde022ef5",
   "metadata": {},
   "source": [
    "---"
   ]
  },
  {
   "cell_type": "code",
   "execution_count": 21,
   "id": "107fa20b-f2be-41c6-bdb6-90c61bc93d17",
   "metadata": {},
   "outputs": [],
   "source": [
    "x_train_ar = np.array(x_train)\n",
    "x_train_normal = layers.Normalization(input_shape=[1,], axis=None)\n",
    "x_train_normal.adapt(x_train_ar)"
   ]
  },
  {
   "cell_type": "code",
   "execution_count": 22,
   "id": "a7585269-7af1-4862-8d58-8f7105d9a2fb",
   "metadata": {},
   "outputs": [
    {
     "name": "stdout",
     "output_type": "stream",
     "text": [
      "Model: \"sequential_1\"\n",
      "_________________________________________________________________\n",
      " Layer (type)                Output Shape              Param #   \n",
      "=================================================================\n",
      " normalization (Normalizatio  (None, 1)                3         \n",
      " n)                                                              \n",
      "                                                                 \n",
      " dense_2 (Dense)             (None, 1)                 2         \n",
      "                                                                 \n",
      "=================================================================\n",
      "Total params: 5\n",
      "Trainable params: 2\n",
      "Non-trainable params: 3\n",
      "_________________________________________________________________\n"
     ]
    }
   ],
   "source": [
    "model2 = tf.keras.Sequential([\n",
    "    x_train_normal,\n",
    "    layers.Dense(units=1)\n",
    "])\n",
    "\n",
    "model2.summary()"
   ]
  },
  {
   "cell_type": "code",
   "execution_count": 23,
   "id": "ba61596d-bad6-4794-8cf0-0456c06b71a3",
   "metadata": {},
   "outputs": [
    {
     "name": "stdout",
     "output_type": "stream",
     "text": [
      "1/1 [==============================] - 0s 75ms/step\n"
     ]
    },
    {
     "data": {
      "text/plain": [
       "array([[ 0.7694796 ],\n",
       "       [ 0.93122214],\n",
       "       [ 0.3603663 ],\n",
       "       [ 0.2937665 ],\n",
       "       [-0.13437535],\n",
       "       [ 0.21765237],\n",
       "       [-0.19621807],\n",
       "       [-0.31990346],\n",
       "       [-0.16291814],\n",
       "       [-0.37698904]], dtype=float32)"
      ]
     },
     "execution_count": 23,
     "metadata": {},
     "output_type": "execute_result"
    }
   ],
   "source": [
    "model2.predict(x_train_ar[:10])"
   ]
  },
  {
   "cell_type": "code",
   "execution_count": 24,
   "id": "c94d675e-9344-4f3f-99dc-2c58b86fee99",
   "metadata": {},
   "outputs": [],
   "source": [
    "model2.compile(\n",
    "    optimizer=tf.keras.optimizers.Adam(learning_rate=0.1),\n",
    "    loss='mean_absolute_error',\n",
    "    metrics = [tfa.metrics.r_square.RSquare() ,'mse', 'mae', 'mape']\n",
    ")"
   ]
  },
  {
   "cell_type": "code",
   "execution_count": 25,
   "id": "be75ca34-8345-417a-81a0-b9f1f2039a1a",
   "metadata": {},
   "outputs": [
    {
     "name": "stdout",
     "output_type": "stream",
     "text": [
      "Wall time: 7.87 s\n"
     ]
    }
   ],
   "source": [
    "%%time\n",
    "history2 = model2.fit(\n",
    "    x_train,\n",
    "    y_train,\n",
    "    epochs=100,\n",
    "    verbose=0,\n",
    "    validation_split = 0.2)"
   ]
  },
  {
   "cell_type": "code",
   "execution_count": 26,
   "id": "93f017d5-3284-4817-a53c-f454b3f19ec1",
   "metadata": {},
   "outputs": [
    {
     "data": {
      "text/html": [
       "<div>\n",
       "<style scoped>\n",
       "    .dataframe tbody tr th:only-of-type {\n",
       "        vertical-align: middle;\n",
       "    }\n",
       "\n",
       "    .dataframe tbody tr th {\n",
       "        vertical-align: top;\n",
       "    }\n",
       "\n",
       "    .dataframe thead th {\n",
       "        text-align: right;\n",
       "    }\n",
       "</style>\n",
       "<table border=\"1\" class=\"dataframe\">\n",
       "  <thead>\n",
       "    <tr style=\"text-align: right;\">\n",
       "      <th></th>\n",
       "      <th>loss</th>\n",
       "      <th>r_square</th>\n",
       "      <th>mse</th>\n",
       "      <th>mae</th>\n",
       "      <th>mape</th>\n",
       "      <th>val_loss</th>\n",
       "      <th>val_r_square</th>\n",
       "      <th>val_mse</th>\n",
       "      <th>val_mae</th>\n",
       "      <th>val_mape</th>\n",
       "      <th>epoch</th>\n",
       "    </tr>\n",
       "  </thead>\n",
       "  <tbody>\n",
       "    <tr>\n",
       "      <th>95</th>\n",
       "      <td>3.246778</td>\n",
       "      <td>0.440830</td>\n",
       "      <td>20.407944</td>\n",
       "      <td>3.246778</td>\n",
       "      <td>22.669920</td>\n",
       "      <td>3.649283</td>\n",
       "      <td>0.343841</td>\n",
       "      <td>26.477312</td>\n",
       "      <td>3.649283</td>\n",
       "      <td>23.267027</td>\n",
       "      <td>95</td>\n",
       "    </tr>\n",
       "    <tr>\n",
       "      <th>96</th>\n",
       "      <td>3.242774</td>\n",
       "      <td>0.445083</td>\n",
       "      <td>20.252718</td>\n",
       "      <td>3.242774</td>\n",
       "      <td>22.671610</td>\n",
       "      <td>3.649074</td>\n",
       "      <td>0.348302</td>\n",
       "      <td>26.297304</td>\n",
       "      <td>3.649074</td>\n",
       "      <td>23.368977</td>\n",
       "      <td>96</td>\n",
       "    </tr>\n",
       "    <tr>\n",
       "      <th>97</th>\n",
       "      <td>3.244923</td>\n",
       "      <td>0.446440</td>\n",
       "      <td>20.203224</td>\n",
       "      <td>3.244923</td>\n",
       "      <td>22.757124</td>\n",
       "      <td>3.639368</td>\n",
       "      <td>0.349717</td>\n",
       "      <td>26.240236</td>\n",
       "      <td>3.639368</td>\n",
       "      <td>23.333490</td>\n",
       "      <td>97</td>\n",
       "    </tr>\n",
       "    <tr>\n",
       "      <th>98</th>\n",
       "      <td>3.241676</td>\n",
       "      <td>0.446556</td>\n",
       "      <td>20.199026</td>\n",
       "      <td>3.241676</td>\n",
       "      <td>22.731138</td>\n",
       "      <td>3.640903</td>\n",
       "      <td>0.347811</td>\n",
       "      <td>26.317122</td>\n",
       "      <td>3.640903</td>\n",
       "      <td>23.297773</td>\n",
       "      <td>98</td>\n",
       "    </tr>\n",
       "    <tr>\n",
       "      <th>99</th>\n",
       "      <td>3.240627</td>\n",
       "      <td>0.444529</td>\n",
       "      <td>20.272911</td>\n",
       "      <td>3.240627</td>\n",
       "      <td>22.687428</td>\n",
       "      <td>3.635753</td>\n",
       "      <td>0.345110</td>\n",
       "      <td>26.426125</td>\n",
       "      <td>3.635753</td>\n",
       "      <td>23.198046</td>\n",
       "      <td>99</td>\n",
       "    </tr>\n",
       "  </tbody>\n",
       "</table>\n",
       "</div>"
      ],
      "text/plain": [
       "        loss  r_square        mse       mae       mape  val_loss  \\\n",
       "95  3.246778  0.440830  20.407944  3.246778  22.669920  3.649283   \n",
       "96  3.242774  0.445083  20.252718  3.242774  22.671610  3.649074   \n",
       "97  3.244923  0.446440  20.203224  3.244923  22.757124  3.639368   \n",
       "98  3.241676  0.446556  20.199026  3.241676  22.731138  3.640903   \n",
       "99  3.240627  0.444529  20.272911  3.240627  22.687428  3.635753   \n",
       "\n",
       "    val_r_square    val_mse   val_mae   val_mape  epoch  \n",
       "95      0.343841  26.477312  3.649283  23.267027     95  \n",
       "96      0.348302  26.297304  3.649074  23.368977     96  \n",
       "97      0.349717  26.240236  3.639368  23.333490     97  \n",
       "98      0.347811  26.317122  3.640903  23.297773     98  \n",
       "99      0.345110  26.426125  3.635753  23.198046     99  "
      ]
     },
     "execution_count": 26,
     "metadata": {},
     "output_type": "execute_result"
    }
   ],
   "source": [
    "history_df2 = pd.DataFrame(history2.history)\n",
    "history_df2['epoch'] = history2.epoch\n",
    "history_df2.tail()"
   ]
  },
  {
   "cell_type": "code",
   "execution_count": 27,
   "id": "24443ec6-0c8b-4e9d-9671-a2d649c66244",
   "metadata": {},
   "outputs": [
    {
     "data": {
      "image/png": "[encoded data removed]",
      "text/plain": [
       "<Figure size 432x288 with 1 Axes>"
      ]
     },
     "metadata": {
      "needs_background": "light"
     },
     "output_type": "display_data"
    }
   ],
   "source": [
    "plot_loss(history2)"
   ]
  },
  {
   "cell_type": "code",
   "execution_count": 28,
   "id": "4bf36013-f3c4-4385-892a-723bd76abf2b",
   "metadata": {},
   "outputs": [
    {
     "name": "stdout",
     "output_type": "stream",
     "text": [
      "2/2 [==============================] - 0s 5ms/step\n"
     ]
    }
   ],
   "source": [
    "x2 = tf.linspace(0, 40, 40)\n",
    "y2 = model2.predict(x2)"
   ]
  },
  {
   "cell_type": "code",
   "execution_count": 29,
   "id": "424bd095-a58b-460a-802b-a65d5d2b793d",
   "metadata": {},
   "outputs": [
    {
     "data": {
      "image/png": "[encoded data removed]",
      "text/plain": [
       "<Figure size 432x288 with 1 Axes>"
      ]
     },
     "metadata": {
      "needs_background": "light"
     },
     "output_type": "display_data"
    }
   ],
   "source": [
    "plot_horsepower(x2, y2)"
   ]
  },
  {
   "cell_type": "code",
   "execution_count": 30,
   "id": "36bded1f-3465-42c0-8401-1a13f3735c8f",
   "metadata": {},
   "outputs": [],
   "source": [
    "test_results['model2'] = model2.evaluate(\n",
    "x_test, y_test, verbose=0)"
   ]
  },
  {
   "cell_type": "markdown",
   "id": "b134c270-97de-48bf-b4e4-671bc7995a34",
   "metadata": {},
   "source": [
    "---"
   ]
  },
  {
   "cell_type": "code",
   "execution_count": 31,
   "id": "818fbb73-2796-49ee-8a5e-5636c79770c1",
   "metadata": {},
   "outputs": [],
   "source": [
    "def build_and_compile_model(norm):\n",
    "    model = keras.Sequential([\n",
    "      norm,\n",
    "      layers.Dense(64, activation='relu'),\n",
    "      layers.Dense(64, activation='relu'),\n",
    "      layers.Dense(1)\n",
    "  ])\n",
    "\n",
    "    model.compile(loss='mean_absolute_error',\n",
    "                optimizer=tf.keras.optimizers.Adam(0.001),\n",
    "                metrics = [tfa.metrics.r_square.RSquare() ,'mse', 'mae', 'mape'])\n",
    "    return model"
   ]
  },
  {
   "cell_type": "code",
   "execution_count": 32,
   "id": "517ed0c7-3279-4eb8-ac34-fccf01e87d07",
   "metadata": {},
   "outputs": [],
   "source": [
    "model3 = build_and_compile_model(x_train_normal)"
   ]
  },
  {
   "cell_type": "code",
   "execution_count": 33,
   "id": "06e3dc2f-c6c1-4bd8-9a44-4743958b0fba",
   "metadata": {},
   "outputs": [
    {
     "name": "stdout",
     "output_type": "stream",
     "text": [
      "Model: \"sequential_2\"\n",
      "_________________________________________________________________\n",
      " Layer (type)                Output Shape              Param #   \n",
      "=================================================================\n",
      " normalization (Normalizatio  (None, 1)                3         \n",
      " n)                                                              \n",
      "                                                                 \n",
      " dense_3 (Dense)             (None, 64)                128       \n",
      "                                                                 \n",
      " dense_4 (Dense)             (None, 64)                4160      \n",
      "                                                                 \n",
      " dense_5 (Dense)             (None, 1)                 65        \n",
      "                                                                 \n",
      "=================================================================\n",
      "Total params: 4,356\n",
      "Trainable params: 4,353\n",
      "Non-trainable params: 3\n",
      "_________________________________________________________________\n"
     ]
    }
   ],
   "source": [
    "model3.summary()"
   ]
  },
  {
   "cell_type": "code",
   "execution_count": 34,
   "id": "514ecf56-1d3f-47a5-ae45-eec89024110f",
   "metadata": {},
   "outputs": [
    {
     "name": "stdout",
     "output_type": "stream",
     "text": [
      "Wall time: 8.6 s\n"
     ]
    }
   ],
   "source": [
    "%%time\n",
    "history3 = model3.fit(\n",
    "    x_train,\n",
    "    y_train,\n",
    "    validation_split=0.2,\n",
    "    verbose=0, epochs=100)"
   ]
  },
  {
   "cell_type": "code",
   "execution_count": 35,
   "id": "ea8247e6-41e6-4867-9fb6-25c90f727d82",
   "metadata": {},
   "outputs": [
    {
     "data": {
      "image/png": "[encoded data removed]",
      "text/plain": [
       "<Figure size 432x288 with 1 Axes>"
      ]
     },
     "metadata": {
      "needs_background": "light"
     },
     "output_type": "display_data"
    }
   ],
   "source": [
    "plot_loss(history3)"
   ]
  },
  {
   "cell_type": "code",
   "execution_count": 36,
   "id": "0ef10092-1d03-4365-9f9f-6c8e38eb0643",
   "metadata": {},
   "outputs": [
    {
     "name": "stdout",
     "output_type": "stream",
     "text": [
      "2/2 [==============================] - 0s 2ms/step\n"
     ]
    }
   ],
   "source": [
    "x3 = tf.linspace(0, 40, 40)\n",
    "y3 = model3.predict(x3)"
   ]
  },
  {
   "cell_type": "code",
   "execution_count": 37,
   "id": "12d908f1-7e72-41cc-b37a-757027daa7fb",
   "metadata": {},
   "outputs": [
    {
     "data": {
      "image/png": "[encoded data removed]",
      "text/plain": [
       "<Figure size 432x288 with 1 Axes>"
      ]
     },
     "metadata": {
      "needs_background": "light"
     },
     "output_type": "display_data"
    }
   ],
   "source": [
    "plot_horsepower(x3, y3)"
   ]
  },
  {
   "cell_type": "code",
   "execution_count": 38,
   "id": "7b3614af-75ca-4e65-a012-ed22506fce7a",
   "metadata": {},
   "outputs": [],
   "source": [
    "test_results['model3'] = model3.evaluate(\n",
    "    x_test, y_test,\n",
    "    verbose=0)"
   ]
  },
  {
   "cell_type": "markdown",
   "id": "7c850da2-5ebc-4cff-9f59-2c0a1d9e09cf",
   "metadata": {},
   "source": [
    "---"
   ]
  },
  {
   "cell_type": "code",
   "execution_count": 79,
   "id": "543c5fe0-2be3-4f8d-a58d-51356cb7a15b",
   "metadata": {},
   "outputs": [
    {
     "data": {
      "text/html": [
       "<div>\n",
       "<style scoped>\n",
       "    .dataframe tbody tr th:only-of-type {\n",
       "        vertical-align: middle;\n",
       "    }\n",
       "\n",
       "    .dataframe tbody tr th {\n",
       "        vertical-align: top;\n",
       "    }\n",
       "\n",
       "    .dataframe thead th {\n",
       "        text-align: right;\n",
       "    }\n",
       "</style>\n",
       "<table border=\"1\" class=\"dataframe\">\n",
       "  <thead>\n",
       "    <tr style=\"text-align: right;\">\n",
       "      <th></th>\n",
       "      <th>loss</th>\n",
       "      <th>R2</th>\n",
       "      <th>mse</th>\n",
       "      <th>mae</th>\n",
       "      <th>mape</th>\n",
       "    </tr>\n",
       "  </thead>\n",
       "  <tbody>\n",
       "    <tr>\n",
       "      <th>model1</th>\n",
       "      <td>4.088638</td>\n",
       "      <td>0.353238</td>\n",
       "      <td>30.014170</td>\n",
       "      <td>4.088638</td>\n",
       "      <td>27.624147</td>\n",
       "    </tr>\n",
       "    <tr>\n",
       "      <th>model2</th>\n",
       "      <td>4.073166</td>\n",
       "      <td>0.358032</td>\n",
       "      <td>29.791693</td>\n",
       "      <td>4.073166</td>\n",
       "      <td>27.261763</td>\n",
       "    </tr>\n",
       "    <tr>\n",
       "      <th>model3</th>\n",
       "      <td>3.731428</td>\n",
       "      <td>0.421701</td>\n",
       "      <td>26.837046</td>\n",
       "      <td>3.731428</td>\n",
       "      <td>23.233759</td>\n",
       "    </tr>\n",
       "    <tr>\n",
       "      <th>model4</th>\n",
       "      <td>3.725942</td>\n",
       "      <td>0.512166</td>\n",
       "      <td>22.638838</td>\n",
       "      <td>3.725942</td>\n",
       "      <td>25.209997</td>\n",
       "    </tr>\n",
       "  </tbody>\n",
       "</table>\n",
       "</div>"
      ],
      "text/plain": [
       "            loss        R2        mse       mae       mape\n",
       "model1  4.088638  0.353238  30.014170  4.088638  27.624147\n",
       "model2  4.073166  0.358032  29.791693  4.073166  27.261763\n",
       "model3  3.731428  0.421701  26.837046  3.731428  23.233759\n",
       "model4  3.725942  0.512166  22.638838  3.725942  25.209997"
      ]
     },
     "execution_count": 79,
     "metadata": {},
     "output_type": "execute_result"
    }
   ],
   "source": [
    "df_results = pd.DataFrame(test_results).T\n",
    "df_results = df_results.rename(columns={0: 'loss', 1: 'R2', 2: 'mse', 3: 'mae', 4:\"mape\"})\n",
    "df_results"
   ]
  },
  {
   "cell_type": "markdown",
   "id": "c2bd9c98-b076-412b-9ac9-f9179601984f",
   "metadata": {},
   "source": [
    "---"
   ]
  },
  {
   "cell_type": "code",
   "execution_count": 45,
   "id": "27e5b8f8-aa25-4773-bc2e-c163ab56ef9f",
   "metadata": {},
   "outputs": [
    {
     "name": "stdout",
     "output_type": "stream",
     "text": [
      "4/4 [==============================] - 0s 2ms/step\n"
     ]
    },
    {
     "data": {
      "image/png": "[encoded data removed]",
      "text/plain": [
       "<Figure size 432x288 with 1 Axes>"
      ]
     },
     "metadata": {
      "needs_background": "light"
     },
     "output_type": "display_data"
    }
   ],
   "source": [
    "test_predictions = model3.predict(x_test).flatten()\n",
    "\n",
    "a = plt.axes(aspect='equal')\n",
    "plt.scatter(y_test, test_predictions)\n",
    "plt.xlabel('True Values [MPG]')\n",
    "plt.ylabel('Predictions [MPG]')\n",
    "lims = [0, 50]\n",
    "plt.xlim(lims)\n",
    "plt.ylim(lims)\n",
    "_ = plt.plot(lims, lims)"
   ]
  },
  {
   "cell_type": "code",
   "execution_count": 46,
   "id": "7a6b3b5c-3781-4f4c-b7ba-c549306f995f",
   "metadata": {},
   "outputs": [
    {
     "data": {
      "image/png": "[encoded data removed]",
      "text/plain": [
       "<Figure size 432x288 with 1 Axes>"
      ]
     },
     "metadata": {
      "needs_background": "light"
     },
     "output_type": "display_data"
    }
   ],
   "source": [
    "error = test_predictions - y_test\n",
    "plt.hist(error, bins=25)\n",
    "plt.xlabel('Prediction Error [MPG]')\n",
    "_ = plt.ylabel('Count')\n"
   ]
  },
  {
   "cell_type": "markdown",
   "id": "8019f79c-7dc1-486f-97a2-4117434651d4",
   "metadata": {},
   "source": [
    "---"
   ]
  },
  {
   "cell_type": "markdown",
   "id": "62eee420-ff4d-4286-9cd6-150bea60e195",
   "metadata": {},
   "source": [
    "Lets Tune the model. As is written in oficcial tensorflow site:\n",
    "Hyperparameters are the variables that govern the training process and the topology of an ML model. These variables remain constant over the training process and directly impact the performance of your ML program. Hyperparameters are of two types:\n",
    "1. Model hyperparameters which influence model selection such as the number and width of hidden layers\n",
    "2. Algorithm hyperparameters which influence the speed and quality of the learning algorithm such as the learning rate for Stochastic Gradient Descent (SGD) and the number of nearest neighbors for a k Nearest Neighbors (KNN) classifier"
   ]
  },
  {
   "cell_type": "code",
   "execution_count": 58,
   "id": "df3ab7a5-862a-472b-bec4-f6c24c9374eb",
   "metadata": {},
   "outputs": [],
   "source": [
    "def model_builder4(hp): \n",
    "    model4 = keras.Sequential([\n",
    "      layers.Dense(64, activation='relu'),\n",
    "      layers.Dense(64, activation='relu'),\n",
    "      layers.Dense(1)\n",
    "  ])\n",
    "    \n",
    "    hp_learning_rate = hp.Choice('learning_rate', values = [1e-1, 1e-2, 1e-3, 1e-4]) \n",
    "\n",
    "    optimizer = tf.keras.optimizers.Adam(learning_rate = hp_learning_rate)\n",
    "\n",
    "    model4.compile(loss='mean_absolute_error',\n",
    "                optimizer=optimizer,\n",
    "                metrics = [tfa.metrics.r_square.RSquare() ,'mse', 'mae', 'mape'])\n",
    "    return model4"
   ]
  },
  {
   "cell_type": "code",
   "execution_count": 71,
   "id": "fde2fcd9-e79d-45ab-893e-774599463067",
   "metadata": {},
   "outputs": [],
   "source": [
    "tuner_rs = kt.RandomSearch(\n",
    "    model_builder4,                \n",
    "    objective = kt.Objective(\"val_r_square\", direction=\"max\"),            \n",
    "    seed = 42,                    \n",
    "    max_trials = 3,                \n",
    "    directory='random_search',\n",
    "    overwrite=True)"
   ]
  },
  {
   "cell_type": "code",
   "execution_count": 72,
   "id": "c93d991e-8b19-4484-8e7c-7e11b154a82d",
   "metadata": {},
   "outputs": [
    {
     "name": "stdout",
     "output_type": "stream",
     "text": [
      "Trial 3 Complete [00h 00m 18s]\n",
      "val_r_square: 0.40482819080352783\n",
      "\n",
      "Best val_r_square So Far: 0.4462747573852539\n",
      "Total elapsed time: 00h 00m 53s\n",
      "INFO:tensorflow:Oracle triggered exit\n",
      "Wall time: 53.4 s\n"
     ]
    }
   ],
   "source": [
    "%%time\n",
    "tuner_rs.search(\n",
    "    x_train,\n",
    "    y_train,\n",
    "    validation_split=0.2,\n",
    "    verbose=1, epochs=100)"
   ]
  },
  {
   "cell_type": "code",
   "execution_count": 73,
   "id": "dfaaaf2d-3d69-446d-bdf3-168efc3a3af1",
   "metadata": {},
   "outputs": [
    {
     "name": "stdout",
     "output_type": "stream",
     "text": [
      "Results summary\n",
      "Results in random_search\\untitled_project\n",
      "Showing 10 best trials\n",
      "<keras_tuner.engine.objective.Objective object at 0x0000029CBC325A00>\n",
      "Trial summary\n",
      "Hyperparameters:\n",
      "learning_rate: 0.1\n",
      "Score: 0.4462747573852539\n",
      "Trial summary\n",
      "Hyperparameters:\n",
      "learning_rate: 0.001\n",
      "Score: 0.40482819080352783\n",
      "Trial summary\n",
      "Hyperparameters:\n",
      "learning_rate: 0.0001\n",
      "Score: -3.0040225982666016\n"
     ]
    }
   ],
   "source": [
    "tuner_rs.results_summary()"
   ]
  },
  {
   "cell_type": "code",
   "execution_count": 74,
   "id": "9e8f7ef1-0f16-4abc-b509-7de9fc176e29",
   "metadata": {},
   "outputs": [],
   "source": [
    "best_model = tuner_rs.get_best_models(num_models=1)[0]\n",
    "\n",
    "test_results['model4'] = best_model.evaluate(\n",
    "    x_test, y_test,\n",
    "    verbose=0)"
   ]
  },
  {
   "cell_type": "code",
   "execution_count": 75,
   "id": "15eab3e6-6b8a-4f58-943c-571c9bb03a99",
   "metadata": {},
   "outputs": [
    {
     "name": "stdout",
     "output_type": "stream",
     "text": [
      "Wall time: 7.57 s\n"
     ]
    }
   ],
   "source": [
    "%%time\n",
    "history4 = best_model.fit(\n",
    "    x_train,\n",
    "    y_train,\n",
    "    validation_split=0.2,\n",
    "    verbose=0, epochs=100)"
   ]
  },
  {
   "cell_type": "code",
   "execution_count": 76,
   "id": "bcb2ee4b-8b39-4a83-a028-f5d97d40f852",
   "metadata": {},
   "outputs": [
    {
     "data": {
      "image/png": "[encoded data removed]",
      "text/plain": [
       "<Figure size 432x288 with 1 Axes>"
      ]
     },
     "metadata": {
      "needs_background": "light"
     },
     "output_type": "display_data"
    }
   ],
   "source": [
    "plot_loss(history4)"
   ]
  },
  {
   "cell_type": "code",
   "execution_count": 77,
   "id": "ae818bb5-9b4f-4b02-8cdb-d9d8bc235462",
   "metadata": {},
   "outputs": [
    {
     "name": "stdout",
     "output_type": "stream",
     "text": [
      "2/2 [==============================] - 0s 3ms/step\n"
     ]
    }
   ],
   "source": [
    "x4 = tf.linspace(0, 40, 40)\n",
    "y4 = best_model.predict(x4)"
   ]
  },
  {
   "cell_type": "code",
   "execution_count": 78,
   "id": "9f4d19e3-1b25-4dd1-abb5-31f38ebfd7a0",
   "metadata": {},
   "outputs": [
    {
     "data": {
      "image/png": "[encoded data removed]",
      "text/plain": [
       "<Figure size 432x288 with 1 Axes>"
      ]
     },
     "metadata": {
      "needs_background": "light"
     },
     "output_type": "display_data"
    }
   ],
   "source": [
    "plot_horsepower(x4, y4)"
   ]
  },
  {
   "cell_type": "markdown",
   "id": "a0571b70-769c-4deb-8251-a0da81af931a",
   "metadata": {},
   "source": [
    "---"
   ]
  },
  {
   "cell_type": "code",
   "execution_count": 88,
   "id": "dbba8913-45c1-4805-8899-30f621073b6a",
   "metadata": {},
   "outputs": [],
   "source": [
    "def build_model5(hp):\n",
    "    model = keras.Sequential()\n",
    "    \n",
    "    for i in range(1, hp.Int(\"num_layers\", 2, 6)):\n",
    "        model.add(\n",
    "            layers.Dense(\n",
    "                # Define the hyperparameter.\n",
    "                units=hp.Int(\"units\", min_value=20, max_value=100, step=20),\n",
    "                activation=hp.Choice(\"activation\", [\"relu\", \"tanh\"])\n",
    "            )\n",
    "        )      \n",
    "            \n",
    "    model.add(keras.layers.Dense(1, activation=\"relu\"))\n",
    "    \n",
    "    hp_learning_rate = hp.Choice('learning_rate', values=[1e-2, 1e-3, 1e-4])\n",
    "   \n",
    "\n",
    "    optimizers_dict = {\n",
    "        \"Adam\":    Adam(learning_rate=hp_learning_rate),\n",
    "        \"SGD\":     SGD(learning_rate=hp_learning_rate),\n",
    "        }\n",
    "\n",
    "    hp_optimizers = hp.Choice(\n",
    "        'optimizer', \n",
    "        values=[\"Adam\", \"SGD\"]\n",
    "        )\n",
    "\n",
    "    model.compile(\n",
    "        optimizer=optimizers_dict[hp_optimizers], loss=\"mean_absolute_error\", metrics=tfa.metrics.r_square.RSquare(),\n",
    "    )\n",
    "    return model"
   ]
  },
  {
   "cell_type": "code",
   "execution_count": 89,
   "id": "f95f20da-976c-457f-bb7f-856a1dcc4d03",
   "metadata": {},
   "outputs": [],
   "source": [
    "tuner5 = kt.Hyperband(build_model5,\n",
    "                     objective=kt.Objective(\"r_square\", direction=\"min\"),\n",
    "                     max_epochs=20,\n",
    "                     factor=3,\n",
    "                     hyperband_iterations=10,\n",
    "                     directory=\"kt_dir\",\n",
    "                     project_name=\"kt_hyperband\",)"
   ]
  },
  {
   "cell_type": "code",
   "execution_count": 90,
   "id": "e3b4fc02-feb6-485c-a5bb-ca6f16faa5b3",
   "metadata": {},
   "outputs": [
    {
     "name": "stdout",
     "output_type": "stream",
     "text": [
      "Search space summary\n",
      "Default search space size: 4\n",
      "num_layers (Int)\n",
      "{'default': None, 'conditions': [], 'min_value': 2, 'max_value': 6, 'step': 1, 'sampling': None}\n",
      "units_1 (Int)\n",
      "{'default': None, 'conditions': [], 'min_value': 20, 'max_value': 100, 'step': 20, 'sampling': None}\n",
      "dropout_1 (Float)\n",
      "{'default': 0.0, 'conditions': [], 'min_value': 0.0, 'max_value': 0.3, 'step': 0.1, 'sampling': None}\n",
      "learning_rate (Choice)\n",
      "{'default': 0.01, 'conditions': [], 'values': [0.01, 0.001, 0.0001], 'ordered': True}\n"
     ]
    }
   ],
   "source": [
    "tuner5.search_space_summary()"
   ]
  },
  {
   "cell_type": "code",
   "execution_count": 92,
   "id": "79f24791-95ce-48a0-946c-45c306ebe884",
   "metadata": {},
   "outputs": [
    {
     "name": "stdout",
     "output_type": "stream",
     "text": [
      "Trial 300 Complete [00h 00m 04s]\n",
      "r_square: -5.396964073181152\n",
      "\n",
      "Best r_square So Far: -5.396972179412842\n",
      "Total elapsed time: 00h 18m 27s\n",
      "INFO:tensorflow:Oracle triggered exit\n",
      "Wall time: 18min 27s\n"
     ]
    }
   ],
   "source": [
    "%%time\n",
    "stop_early = tf.keras.callbacks.EarlyStopping(monitor='val_loss', patience=5)\n",
    "NUM_EPOCHS = 20\n",
    "\n",
    "tuner5.search(\n",
    "    x_train,\n",
    "    y_train,\n",
    "    callbacks=[stop_early],\n",
    "    validation_split=0.2,\n",
    "    verbose=1, epochs=NUM_EPOCHS)"
   ]
  },
  {
   "cell_type": "code",
   "execution_count": null,
   "id": "a1baed6b-6d54-4153-8026-f244bdc678c1",
   "metadata": {},
   "outputs": [],
   "source": []
  }
 ],
 "metadata": {
  "kernelspec": {
   "display_name": "Python 3 (ipykernel)",
   "language": "python",
   "name": "python3"
  },
  "language_info": {
   "codemirror_mode": {
    "name": "ipython",
    "version": 3
   },
   "file_extension": ".py",
   "mimetype": "text/x-python",
   "name": "python",
   "nbconvert_exporter": "python",
   "pygments_lexer": "ipython3",
   "version": "3.8.12"
  }
 },
 "nbformat": 4,
 "nbformat_minor": 5
}
